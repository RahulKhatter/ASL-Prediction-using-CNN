{
 "cells": [
  {
   "cell_type": "code",
   "execution_count": 13,
   "id": "c4e2d069-2044-49e8-9186-ca5528e58d36",
   "metadata": {},
   "outputs": [],
   "source": [
    "import matplotlib.image as img\n",
    "import pandas as pd\n",
    "from PIL import Image as im\n",
    "from PIL import ImageOps \n",
    "from sklearn.model_selection import train_test_split\n",
    "import keras\n",
    "import tensorflow as tf\n",
    "from keras.models import Sequential\n",
    "from keras.layers import Dense, Dropout, Conv2D, MaxPooling2D,AveragePooling3D, Flatten,BatchNormalization, Softmax\n",
    "from sklearn.metrics import accuracy_score\n",
    "import numpy as np\n",
    "from numpy import asarray"
   ]
  },
  {
   "cell_type": "code",
   "execution_count": 14,
   "id": "5a1478d1-3864-4369-8369-a8772125d8ff",
   "metadata": {},
   "outputs": [],
   "source": [
    "test_data=[]\n",
    "test_labels=[]"
   ]
  },
  {
   "cell_type": "code",
   "execution_count": null,
   "id": "1235e071-6ea7-44c9-9b8b-4c2dd567d6e3",
   "metadata": {},
   "outputs": [],
   "source": []
  },
  {
   "cell_type": "code",
   "execution_count": 15,
   "id": "ef66a3dc-4d5b-4d23-94fa-48b074530111",
   "metadata": {},
   "outputs": [],
   "source": [
    "import os\n",
    "al=['a','b','c','d', 'e', 'f', 'g', 'h', 'i', 'j', 'k', 'l', 'm', 'n', 'o', 'p', 'q', 'r', 's', 't', 'u', 'v', 'w', 'x', 'y', 'z']\n",
    "for i in range(0,10):\n",
    "    directory = os.fsencode(f\"/Users/rahulkhatter/Downloads/asl_dataset/{i}\")\n",
    "    for file in os.listdir(directory):\n",
    "        filename = os.fsdecode(file)\n",
    "        test_data.append(np.asarray(ImageOps.grayscale(im.open(f\"/Users/rahulkhatter/Downloads/asl_dataset/{i}/{filename}\"))))\n",
    "        test_labels.append(i)\n",
    "j=10\n",
    "for i in al:\n",
    "    directory = os.fsencode(f\"/Users/rahulkhatter/Downloads/asl_dataset/{i}\")\n",
    "    for file in os.listdir(directory):\n",
    "        filename = os.fsdecode(file)\n",
    "        test_data.append(np.asarray(ImageOps.grayscale(im.open(f\"/Users/rahulkhatter/Downloads/asl_dataset/{i}/{filename}\"))))\n",
    "        test_labels.append(j)\n",
    "    j+=1"
   ]
  },
  {
   "cell_type": "code",
   "execution_count": 16,
   "id": "db2107ad-6b06-45fd-b177-3d47cb39973a",
   "metadata": {},
   "outputs": [],
   "source": [
    "test_label=[]\n",
    "test_label=np.array(test_labels)\n",
    "test_data=np.array(test_data)"
   ]
  },
  {
   "cell_type": "code",
   "execution_count": 17,
   "id": "3c800a47-221e-4c7c-b46b-6f4763ece5de",
   "metadata": {},
   "outputs": [],
   "source": [
    "X_train, X_val, y_train, y_val = train_test_split(test_data,test_label, test_size=0.1, random_state=42)"
   ]
  },
  {
   "cell_type": "code",
   "execution_count": 18,
   "id": "e740964d-0433-48b7-9acb-4025a744c459",
   "metadata": {},
   "outputs": [
    {
     "data": {
      "text/plain": [
       "(400, 400)"
      ]
     },
     "execution_count": 18,
     "metadata": {},
     "output_type": "execute_result"
    }
   ],
   "source": [
    "X_train[0].shape"
   ]
  },
  {
   "cell_type": "code",
   "execution_count": 19,
   "id": "6d9a63b0-f9e1-4fbf-86da-c4d840434aad",
   "metadata": {},
   "outputs": [],
   "source": [
    "model_3=Sequential()\n",
    "model_3.add(Conv2D(4, (3, 3), padding=\"same\", strides=(1,1), activation='relu', input_shape=(400,400,1)))\n",
    "model_3.add(Conv2D(4, (3, 3), padding=\"same\", strides=(1,1), activation='relu'))\n",
    "model_3.add(MaxPooling2D(2, 2))\n",
    "\n",
    "model_3.add(Conv2D(8, (3, 3), padding=\"same\", strides=(1,1), activation='relu'))\n",
    "model_3.add(Conv2D(8, (3, 3), padding=\"same\", strides=(1,1), activation='relu'))\n",
    "model_3.add(BatchNormalization())\n",
    "model_3.add(MaxPooling2D(2, 2))\n",
    "\n",
    "#Flattening\n",
    "model_3.add(Flatten())\n",
    "# #Second dropout layer\n",
    "model_3.add(Dropout(0.2))\n",
    "#Dense_1\n",
    "model_3.add(Dense(128))\n",
    "#Dense_2\n",
    "model_3.add(Dense(64))\n",
    "#SoftMax\n",
    "model_3.add(Dense(36,activation=\n",
    "                  'softmax'))"
   ]
  },
  {
   "cell_type": "code",
   "execution_count": 20,
   "id": "ecbf206f-6c4e-4b9b-8dfa-762366c46736",
   "metadata": {},
   "outputs": [
    {
     "name": "stdout",
     "output_type": "stream",
     "text": [
      "Model: \"sequential_1\"\n",
      "_________________________________________________________________\n",
      " Layer (type)                Output Shape              Param #   \n",
      "=================================================================\n",
      " conv2d (Conv2D)             (None, 400, 400, 4)       40        \n",
      "                                                                 \n",
      " conv2d_1 (Conv2D)           (None, 400, 400, 4)       148       \n",
      "                                                                 \n",
      " max_pooling2d (MaxPooling2  (None, 200, 200, 4)       0         \n",
      " D)                                                              \n",
      "                                                                 \n",
      " conv2d_2 (Conv2D)           (None, 200, 200, 8)       296       \n",
      "                                                                 \n",
      " conv2d_3 (Conv2D)           (None, 200, 200, 8)       584       \n",
      "                                                                 \n",
      " batch_normalization (Batch  (None, 200, 200, 8)       32        \n",
      " Normalization)                                                  \n",
      "                                                                 \n",
      " max_pooling2d_1 (MaxPoolin  (None, 100, 100, 8)       0         \n",
      " g2D)                                                            \n",
      "                                                                 \n",
      " flatten (Flatten)           (None, 80000)             0         \n",
      "                                                                 \n",
      " dropout (Dropout)           (None, 80000)             0         \n",
      "                                                                 \n",
      " dense (Dense)               (None, 128)               10240128  \n",
      "                                                                 \n",
      " dense_1 (Dense)             (None, 64)                8256      \n",
      "                                                                 \n",
      " dense_2 (Dense)             (None, 36)                2340      \n",
      "                                                                 \n",
      "=================================================================\n",
      "Total params: 10251824 (39.11 MB)\n",
      "Trainable params: 10251808 (39.11 MB)\n",
      "Non-trainable params: 16 (64.00 Byte)\n",
      "_________________________________________________________________\n"
     ]
    }
   ],
   "source": [
    "model_3.summary()"
   ]
  },
  {
   "cell_type": "code",
   "execution_count": 21,
   "id": "65d92e22-9afa-44b4-bf69-86c525a9d6b2",
   "metadata": {},
   "outputs": [],
   "source": [
    "callbk=tf.keras.callbacks.EarlyStopping(\n",
    "    monitor=\"val_loss\",\n",
    "    min_delta=0,\n",
    "    patience=3,\n",
    "    verbose=1,\n",
    "    mode=\"auto\",\n",
    "    baseline=None,\n",
    "    restore_best_weights=True,\n",
    "    start_from_epoch=0,\n",
    ")\n",
    "my_callbacks = [callbk]"
   ]
  },
  {
   "cell_type": "code",
   "execution_count": 22,
   "id": "4c0bf3c4-8a72-4ab0-a27b-031902812b86",
   "metadata": {},
   "outputs": [],
   "source": [
    "loss_function=keras.losses.SparseCategoricalCrossentropy(\n",
    "              from_logits=False,\n",
    "              ignore_class=None,\n",
    "              reduction=\"sum_over_batch_size\",\n",
    "              name=\"sparse_categorical_crossentropy\")\n",
    "\n",
    "Optimizer = tf.keras.optimizers.legacy.Adam()\n",
    "\n",
    "model_3.compile(optimizer=Optimizer,\n",
    "              loss=loss_function,\n",
    "              metrics=['accuracy'])"
   ]
  },
  {
   "cell_type": "code",
   "execution_count": 23,
   "id": "df4fef6a-1699-46ef-9554-468cafb7e6fe",
   "metadata": {},
   "outputs": [
    {
     "data": {
      "text/plain": [
       "array([ 6, 27, 33, ..., 16, 18, 12])"
      ]
     },
     "execution_count": 23,
     "metadata": {},
     "output_type": "execute_result"
    }
   ],
   "source": [
    "y_train"
   ]
  },
  {
   "cell_type": "code",
   "execution_count": 24,
   "id": "7c422c73-1cd3-413a-8ba2-601332c3360d",
   "metadata": {},
   "outputs": [
    {
     "name": "stdout",
     "output_type": "stream",
     "text": [
      "Epoch 1/10\n",
      "71/71 [==============================] - 76s 1s/step - loss: 21.7031 - accuracy: 0.6549 - val_loss: 10.1394 - val_accuracy: 0.7421\n",
      "Epoch 2/10\n",
      "71/71 [==============================] - 76s 1s/step - loss: 1.4157 - accuracy: 0.9474 - val_loss: 5.4097 - val_accuracy: 0.8611\n",
      "Epoch 3/10\n",
      "71/71 [==============================] - 75s 1s/step - loss: 0.9475 - accuracy: 0.9677 - val_loss: 4.8970 - val_accuracy: 0.8889\n",
      "Epoch 4/10\n",
      "71/71 [==============================] - 74s 1s/step - loss: 0.4735 - accuracy: 0.9770 - val_loss: 4.0076 - val_accuracy: 0.8730\n",
      "Epoch 5/10\n",
      "71/71 [==============================] - 74s 1s/step - loss: 0.6239 - accuracy: 0.9726 - val_loss: 6.3531 - val_accuracy: 0.8730\n",
      "Epoch 6/10\n",
      "71/71 [==============================] - 76s 1s/step - loss: 0.5987 - accuracy: 0.9735 - val_loss: 5.1965 - val_accuracy: 0.8611\n",
      "Epoch 7/10\n",
      "71/71 [==============================] - 75s 1s/step - loss: 0.3848 - accuracy: 0.9837 - val_loss: 3.7163 - val_accuracy: 0.9167\n",
      "Epoch 8/10\n",
      "71/71 [==============================] - 73s 1s/step - loss: 0.4741 - accuracy: 0.9810 - val_loss: 5.2385 - val_accuracy: 0.9087\n",
      "Epoch 9/10\n",
      "71/71 [==============================] - 73s 1s/step - loss: 0.3124 - accuracy: 0.9863 - val_loss: 5.1671 - val_accuracy: 0.9087\n",
      "Epoch 10/10\n",
      "71/71 [==============================] - ETA: 0s - loss: 0.1512 - accuracy: 0.9916Restoring model weights from the end of the best epoch: 7.\n",
      "71/71 [==============================] - 74s 1s/step - loss: 0.1512 - accuracy: 0.9916 - val_loss: 6.8026 - val_accuracy: 0.8135\n",
      "Epoch 10: early stopping\n"
     ]
    }
   ],
   "source": [
    "history_3=model_3.fit(X_train, y_train,\n",
    "          epochs=10,validation_data=(X_val, y_val),callbacks=my_callbacks)"
   ]
  },
  {
   "cell_type": "code",
   "execution_count": null,
   "id": "6002ad85-4666-4362-bbee-51d0f4149b21",
   "metadata": {},
   "outputs": [],
   "source": []
  },
  {
   "cell_type": "code",
   "execution_count": null,
   "id": "39826204-7949-46e3-a648-6cae839c23ab",
   "metadata": {},
   "outputs": [],
   "source": []
  }
 ],
 "metadata": {
  "kernelspec": {
   "display_name": "Python 3 (ipykernel)",
   "language": "python",
   "name": "python3"
  },
  "language_info": {
   "codemirror_mode": {
    "name": "ipython",
    "version": 3
   },
   "file_extension": ".py",
   "mimetype": "text/x-python",
   "name": "python",
   "nbconvert_exporter": "python",
   "pygments_lexer": "ipython3",
   "version": "3.10.10"
  }
 },
 "nbformat": 4,
 "nbformat_minor": 5
}
